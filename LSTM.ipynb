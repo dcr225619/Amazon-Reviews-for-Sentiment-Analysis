{
 "cells": [
  {
   "cell_type": "markdown",
   "metadata": {},
   "source": [
    "# Sentiment Analysis - LSTM"
   ]
  },
  {
   "cell_type": "markdown",
   "metadata": {},
   "source": [
    "## 1. load data"
   ]
  },
  {
   "cell_type": "code",
   "execution_count": null,
   "metadata": {},
   "outputs": [
    {
     "name": "stdout",
     "output_type": "stream",
     "text": [
      "Test DataFrame:\n",
      "   label                                               text\n",
      "0      1  Great CD: My lovely Pat has one of the GREAT v...\n",
      "1      1  One of the best game music soundtracks - for a...\n",
      "2      0  Batteries died within a year ...: I bought thi...\n",
      "3      1  works fine, but Maha Energy is better: Check o...\n",
      "4      1  Great for the non-audiophile: Reviewed quite a...\n",
      "\n",
      "Train DataFrame:\n",
      "   label                                               text\n",
      "0      1  Stuning even for the non-gamer: This sound tra...\n",
      "1      1  The best soundtrack ever to anything.: I'm rea...\n",
      "2      1  Amazing!: This soundtrack is my favorite music...\n",
      "3      1  Excellent Soundtrack: I truly like this soundt...\n",
      "4      1  Remember, Pull Your Jaw Off The Floor After He...\n"
     ]
    }
   ],
   "source": [
    "import pandas as pd\n",
    "import bz2\n",
    "\n",
    "# file_path = './test.ft.txt.bz2'\n",
    "# with bz2.open(file_path, 'rt', encoding='utf-8') as file:\n",
    "#     for i in range(5):\n",
    "#         print(next(file).strip())\n",
    "\n",
    "def load_bz2_file(file_path):\n",
    "    \"\"\"extract labels and texts\"\"\"\n",
    "    labels = []\n",
    "    texts = []\n",
    "    with bz2.open(file_path, 'rt', encoding='utf-8') as file:\n",
    "        for line in file:\n",
    "            label, text = line.split(' ', 1)\n",
    "            labels.append(1 if label.strip() == \"__label__2\" else 0)\n",
    "            texts.append(text.strip())\n",
    "    return pd.DataFrame({'label': labels, 'text': texts})\n",
    "\n",
    "test_file = './test.ft.txt.bz2'\n",
    "train_file = './train.ft.txt.bz2'\n",
    "\n",
    "test_df = load_bz2_file(test_file)\n",
    "train_df = load_bz2_file(train_file)"
   ]
  },
  {
   "cell_type": "markdown",
   "metadata": {},
   "source": [
    "### * stop words"
   ]
  },
  {
   "cell_type": "code",
   "execution_count": null,
   "metadata": {},
   "outputs": [],
   "source": [
    "from nltk.corpus import stopwords\n",
    "\n",
    "# download stop words list\n",
    "import nltk\n",
    "nltk.download('stopwords')\n",
    "stop_words = set(stopwords.words('english'))\n",
    "\n",
    "def remove_stop_words(text):\n",
    "    return ' '.join(word for word in text.split() if word not in stop_words)\n",
    "\n",
    "train_df['text'] = train_df['text'].apply(remove_stop_words)\n",
    "test_df['text'] = test_df['text'].apply(remove_stop_words)"
   ]
  },
  {
   "cell_type": "code",
   "execution_count": null,
   "metadata": {},
   "outputs": [
    {
     "name": "stdout",
     "output_type": "stream",
     "text": [
      "Number of training examples: 3600000\n",
      "Number of testing examples: 400000\n"
     ]
    }
   ],
   "source": [
    "print(f'Number of training examples: {len(train_df)}')\n",
    "print(f'Number of testing examples: {len(test_df)}')\n",
    "\n",
    "print(\"Test DataFrame:\")\n",
    "print(test_df.head())\n",
    "\n",
    "print(\"\\nTrain DataFrame:\")\n",
    "print(train_df.head())"
   ]
  },
  {
   "cell_type": "code",
   "execution_count": null,
   "metadata": {},
   "outputs": [
    {
     "name": "stdout",
     "output_type": "stream",
     "text": [
      "0.18.0+cpu\n"
     ]
    }
   ],
   "source": [
    "import torchtext\n",
    "import torch\n",
    "print(torchtext.__version__)"
   ]
  },
  {
   "cell_type": "markdown",
   "metadata": {},
   "source": [
    "## 2. preprocess"
   ]
  },
  {
   "cell_type": "code",
   "execution_count": null,
   "metadata": {},
   "outputs": [
    {
     "name": "stderr",
     "output_type": "stream",
     "text": [
      "c:\\Users\\Churou\\anaconda3\\Lib\\site-packages\\torchtext\\data\\__init__.py:4: UserWarning: \n",
      "/!\\ IMPORTANT WARNING ABOUT TORCHTEXT STATUS /!\\ \n",
      "Torchtext is deprecated and the last released version will be 0.18 (this one). You can silence this warning by calling the following at the beginnign of your scripts: `import torchtext; torchtext.disable_torchtext_deprecation_warning()`\n",
      "  warnings.warn(torchtext._TORCHTEXT_DEPRECATION_MSG)\n",
      "c:\\Users\\Churou\\anaconda3\\Lib\\site-packages\\torchtext\\vocab\\__init__.py:4: UserWarning: \n",
      "/!\\ IMPORTANT WARNING ABOUT TORCHTEXT STATUS /!\\ \n",
      "Torchtext is deprecated and the last released version will be 0.18 (this one). You can silence this warning by calling the following at the beginnign of your scripts: `import torchtext; torchtext.disable_torchtext_deprecation_warning()`\n",
      "  warnings.warn(torchtext._TORCHTEXT_DEPRECATION_MSG)\n",
      "c:\\Users\\Churou\\anaconda3\\Lib\\site-packages\\torchtext\\utils.py:4: UserWarning: \n",
      "/!\\ IMPORTANT WARNING ABOUT TORCHTEXT STATUS /!\\ \n",
      "Torchtext is deprecated and the last released version will be 0.18 (this one). You can silence this warning by calling the following at the beginnign of your scripts: `import torchtext; torchtext.disable_torchtext_deprecation_warning()`\n",
      "  warnings.warn(torchtext._TORCHTEXT_DEPRECATION_MSG)\n"
     ]
    }
   ],
   "source": [
    "from torch.utils.data import DataLoader, Dataset\n",
    "from torch.nn.utils.rnn import pad_sequence\n",
    "from torchtext.data.utils import get_tokenizer # type: ignore\n",
    "from torchtext.vocab import build_vocab_from_iterator # type: ignore\n",
    "\n",
    "class SentimentDataset(Dataset):\n",
    "    def __init__(self, data, tokenizer, vocab):\n",
    "        self.labels =  [int(label) for label in data['label']]\n",
    "        self.texts = [torch.tensor([vocab[token] for token in tokenizer(text)]) for text in data['text']]\n",
    "\n",
    "    def __len__(self):\n",
    "        return len(self.labels)\n",
    "\n",
    "    def __getitem__(self, idx):\n",
    "        return self.texts[idx], self.labels[idx]\n",
    "\n",
    "# create tokenizer and vocabulary dictionary\n",
    "tokenizer = get_tokenizer(\"basic_english\")\n",
    "def yield_tokens(data_iter):\n",
    "    for text in data_iter['text']:\n",
    "        yield tokenizer(text)\n",
    "\n",
    "# limit the number of words in vocabulary\n",
    "vocab = build_vocab_from_iterator(\n",
    "    yield_tokens(train_df),\n",
    "    specials=[\"<unk>\"],\n",
    "    max_tokens=10000  # only keep the most frequent 10000 words\n",
    ")\n",
    "vocab.set_default_index(vocab[\"<unk>\"])\n",
    "\n",
    "# create data loader\n",
    "def collate_batch(batch):\n",
    "    texts, labels = zip(*batch)\n",
    "    texts = pad_sequence(texts, batch_first=True, padding_value=vocab[\"<unk>\"])\n",
    "    labels = torch.tensor(labels)\n",
    "    return texts, labels\n",
    "\n",
    "train_df = SentimentDataset(train_df, tokenizer, vocab)\n",
    "test_df = SentimentDataset(test_df, tokenizer, vocab)\n",
    "valid_df = SentimentDataset(valid_df, tokenizer, vocab)\n",
    "\n",
    "val_loader = DataLoader(valid_df, batch_size=32, shuffle=False, collate_fn=collate_batch)\n",
    "train_loader = DataLoader(train_df, batch_size=32, shuffle=True, collate_fn=collate_batch)\n",
    "test_loader = DataLoader(test_df, batch_size=32, shuffle=False, collate_fn=collate_batch)"
   ]
  },
  {
   "cell_type": "markdown",
   "metadata": {},
   "source": [
    "## 3. build LSTM model"
   ]
  },
  {
   "cell_type": "code",
   "execution_count": null,
   "metadata": {},
   "outputs": [],
   "source": [
    "import torch.nn as nn\n",
    "\n",
    "class RNN(nn.Module):\n",
    "    def __init__(self, vocab_size, embedding_dim, hidden_dim, output_dim, n_layers, \n",
    "                 bidirectional, dropout, pad_idx):\n",
    "        \n",
    "        super().__init__()\n",
    "        \n",
    "        self.embedding = nn.Embedding(vocab_size, embedding_dim, padding_idx = pad_idx)\n",
    "        \n",
    "        self.rnn = nn.LSTM(embedding_dim, \n",
    "                           hidden_dim, \n",
    "                           num_layers=n_layers, \n",
    "                           bidirectional=bidirectional, \n",
    "                           dropout=dropout)\n",
    "        \n",
    "        self.fc = nn.Linear(hidden_dim * 2, output_dim)\n",
    "        \n",
    "        self.dropout = nn.Dropout(dropout)\n",
    "        \n",
    "    def forward(self, text, text_lengths):\n",
    "        \n",
    "        #text = [sent len, batch size]\n",
    "        \n",
    "        embedded = self.dropout(self.embedding(text))\n",
    "        \n",
    "        #embedded = [sent len, batch size, emb dim]\n",
    "        \n",
    "        #pack sequence\n",
    "        # lengths need to be on CPU!\n",
    "        packed_embedded = nn.utils.rnn.pack_padded_sequence(embedded, text_lengths.to('cpu'))\n",
    "        \n",
    "        packed_output, (hidden, cell) = self.rnn(packed_embedded)\n",
    "        \n",
    "        #unpack sequence\n",
    "        output, output_lengths = nn.utils.rnn.pad_packed_sequence(packed_output)\n",
    "\n",
    "        #output = [sent len, batch size, hid dim * num directions]\n",
    "        #output over padding tokens are zero tensors\n",
    "        \n",
    "        #hidden = [num layers * num directions, batch size, hid dim]\n",
    "        #cell = [num layers * num directions, batch size, hid dim]\n",
    "        \n",
    "        #concat the final forward (hidden[-2,:,:]) and backward (hidden[-1,:,:]) hidden layers\n",
    "        #and apply dropout\n",
    "        \n",
    "        hidden = self.dropout(torch.cat((hidden[-2,:,:], hidden[-1,:,:]), dim = 1))\n",
    "                \n",
    "        #hidden = [batch size, hid dim * num directions]\n",
    "            \n",
    "        return self.fc(hidden)"
   ]
  }
 ],
 "metadata": {
  "language_info": {
   "name": "python"
  }
 },
 "nbformat": 4,
 "nbformat_minor": 2
}
